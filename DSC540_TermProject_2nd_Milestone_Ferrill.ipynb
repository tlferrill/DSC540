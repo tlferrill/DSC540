{
 "cells": [
  {
   "cell_type": "code",
   "execution_count": 1,
   "metadata": {},
   "outputs": [],
   "source": [
    "#   Name: Teresa Ferrill\n",
    "#   Date: 04/19/2020\n",
    "# Course: DSC540-T302 Data Preparation\n",
    "# Term Project: Milestone Two - Gun Violence"
   ]
  },
  {
   "cell_type": "markdown",
   "metadata": {},
   "source": [
    "Cleaning/Formatting Flat File Source\n",
    "\n",
    "Perform at least 5 data transformation and/or cleansing steps to your flat file data.  \n",
    "\n",
    "> 1. Replace Headers     \n",
    "> 2. Identify outliers and bad data   \n",
    "> 3. Find duplicates    \n",
    "> 4. Format data into a more readable format    \n",
    "> 5. Fix casing or inconsistent values    "
   ]
  },
  {
   "cell_type": "code",
   "execution_count": 2,
   "metadata": {
    "scrolled": false
   },
   "outputs": [
    {
     "name": "stdout",
     "output_type": "stream",
     "text": [
      "(100798, 11)\n"
     ]
    },
    {
     "data": {
      "text/html": [
       "<div>\n",
       "<style scoped>\n",
       "    .dataframe tbody tr th:only-of-type {\n",
       "        vertical-align: middle;\n",
       "    }\n",
       "\n",
       "    .dataframe tbody tr th {\n",
       "        vertical-align: top;\n",
       "    }\n",
       "\n",
       "    .dataframe thead th {\n",
       "        text-align: right;\n",
       "    }\n",
       "</style>\n",
       "<table border=\"1\" class=\"dataframe\">\n",
       "  <thead>\n",
       "    <tr style=\"text-align: right;\">\n",
       "      <th></th>\n",
       "      <th>Unnamed: 0</th>\n",
       "      <th>year</th>\n",
       "      <th>month</th>\n",
       "      <th>intent</th>\n",
       "      <th>police</th>\n",
       "      <th>sex</th>\n",
       "      <th>age</th>\n",
       "      <th>race</th>\n",
       "      <th>hispanic</th>\n",
       "      <th>place</th>\n",
       "      <th>education</th>\n",
       "    </tr>\n",
       "  </thead>\n",
       "  <tbody>\n",
       "    <tr>\n",
       "      <td>0</td>\n",
       "      <td>1</td>\n",
       "      <td>2012</td>\n",
       "      <td>1</td>\n",
       "      <td>Suicide</td>\n",
       "      <td>0</td>\n",
       "      <td>M</td>\n",
       "      <td>34.0</td>\n",
       "      <td>Asian/Pacific Islander</td>\n",
       "      <td>100</td>\n",
       "      <td>Home</td>\n",
       "      <td>4.0</td>\n",
       "    </tr>\n",
       "    <tr>\n",
       "      <td>1</td>\n",
       "      <td>2</td>\n",
       "      <td>2012</td>\n",
       "      <td>1</td>\n",
       "      <td>Suicide</td>\n",
       "      <td>0</td>\n",
       "      <td>F</td>\n",
       "      <td>21.0</td>\n",
       "      <td>White</td>\n",
       "      <td>100</td>\n",
       "      <td>Street</td>\n",
       "      <td>3.0</td>\n",
       "    </tr>\n",
       "    <tr>\n",
       "      <td>2</td>\n",
       "      <td>3</td>\n",
       "      <td>2012</td>\n",
       "      <td>1</td>\n",
       "      <td>Suicide</td>\n",
       "      <td>0</td>\n",
       "      <td>M</td>\n",
       "      <td>60.0</td>\n",
       "      <td>White</td>\n",
       "      <td>100</td>\n",
       "      <td>Other specified</td>\n",
       "      <td>4.0</td>\n",
       "    </tr>\n",
       "    <tr>\n",
       "      <td>3</td>\n",
       "      <td>4</td>\n",
       "      <td>2012</td>\n",
       "      <td>2</td>\n",
       "      <td>Suicide</td>\n",
       "      <td>0</td>\n",
       "      <td>M</td>\n",
       "      <td>64.0</td>\n",
       "      <td>White</td>\n",
       "      <td>100</td>\n",
       "      <td>Home</td>\n",
       "      <td>4.0</td>\n",
       "    </tr>\n",
       "    <tr>\n",
       "      <td>4</td>\n",
       "      <td>5</td>\n",
       "      <td>2012</td>\n",
       "      <td>2</td>\n",
       "      <td>Suicide</td>\n",
       "      <td>0</td>\n",
       "      <td>M</td>\n",
       "      <td>31.0</td>\n",
       "      <td>White</td>\n",
       "      <td>100</td>\n",
       "      <td>Other specified</td>\n",
       "      <td>2.0</td>\n",
       "    </tr>\n",
       "  </tbody>\n",
       "</table>\n",
       "</div>"
      ],
      "text/plain": [
       "   Unnamed: 0  year  month   intent  police sex   age                    race  \\\n",
       "0           1  2012      1  Suicide       0   M  34.0  Asian/Pacific Islander   \n",
       "1           2  2012      1  Suicide       0   F  21.0                   White   \n",
       "2           3  2012      1  Suicide       0   M  60.0                   White   \n",
       "3           4  2012      2  Suicide       0   M  64.0                   White   \n",
       "4           5  2012      2  Suicide       0   M  31.0                   White   \n",
       "\n",
       "   hispanic            place  education  \n",
       "0       100             Home        4.0  \n",
       "1       100           Street        3.0  \n",
       "2       100  Other specified        4.0  \n",
       "3       100             Home        4.0  \n",
       "4       100  Other specified        2.0  "
      ]
     },
     "execution_count": 2,
     "metadata": {},
     "output_type": "execute_result"
    }
   ],
   "source": [
    "# Start with importing file and reviewing its contents\n",
    "\n",
    "# import libraries used within Notebook\n",
    "import pandas as pd\n",
    "import numpy as np\n",
    "\n",
    "# import csv file into DataFrame and review its contents\n",
    "guns = pd.read_csv('guns.csv')\n",
    "\n",
    "# preserve number of rows of original DataFrame\n",
    "originalRowCount = guns.shape[0]\n",
    "\n",
    "# obtain number of rows and columns within the file\n",
    "print(guns.shape)\n",
    "\n",
    "# print first 5 rows of DataFrame\n",
    "guns.head()"
   ]
  },
  {
   "cell_type": "markdown",
   "metadata": {},
   "source": [
    "Column information:\n",
    "> __Unnamed:0__: this is an identifier column, which contains the row number   \n",
    "> __year__: the year in which the fatality occurred      \n",
    "> __month__: the month in which the fatality occurred    \n",
    "> __intent__: the intent of the perpetrator of the crime, including suicide, accidental, NA, homicide, or undetermined      \n",
    "> __police__: whether a police officer was involved with the shooting, either 0 (false) or 1 (true)     \n",
    "> __sex__: the gender of the victim, either M or F       \n",
    "> __age__: the age of the victim     \n",
    "> __race__: the race of the victim, including Asian/Pacific Islander, Native American/Native Alaskan, Black, Hispanic, or White     \n",
    "> __hispanic__: a code indicating the Hispanic origin of the victim   \n",
    ">> Unable to determine the description of each code       \n",
    ">>\n",
    "> __place__: where the shooting occurred, multiple categories      \n",
    "> __education__: educational status of the victim, one of the following:      \n",
    ">> 1: Less than High School       \n",
    ">> 2: Graduated from High School or equivalent       \n",
    ">> 3: Some College        \n",
    ">> 4: At least graduated from College       \n",
    ">> 5: Not available"
   ]
  },
  {
   "cell_type": "code",
   "execution_count": 3,
   "metadata": {},
   "outputs": [
    {
     "data": {
      "text/html": [
       "<div>\n",
       "<style scoped>\n",
       "    .dataframe tbody tr th:only-of-type {\n",
       "        vertical-align: middle;\n",
       "    }\n",
       "\n",
       "    .dataframe tbody tr th {\n",
       "        vertical-align: top;\n",
       "    }\n",
       "\n",
       "    .dataframe thead th {\n",
       "        text-align: right;\n",
       "    }\n",
       "</style>\n",
       "<table border=\"1\" class=\"dataframe\">\n",
       "  <thead>\n",
       "    <tr style=\"text-align: right;\">\n",
       "      <th></th>\n",
       "      <th>Identifier</th>\n",
       "      <th>year</th>\n",
       "      <th>month</th>\n",
       "      <th>intent</th>\n",
       "      <th>police</th>\n",
       "      <th>sex</th>\n",
       "      <th>age</th>\n",
       "      <th>race</th>\n",
       "      <th>hispanic</th>\n",
       "      <th>place</th>\n",
       "      <th>education</th>\n",
       "    </tr>\n",
       "    <tr>\n",
       "      <th>Index</th>\n",
       "      <th></th>\n",
       "      <th></th>\n",
       "      <th></th>\n",
       "      <th></th>\n",
       "      <th></th>\n",
       "      <th></th>\n",
       "      <th></th>\n",
       "      <th></th>\n",
       "      <th></th>\n",
       "      <th></th>\n",
       "      <th></th>\n",
       "    </tr>\n",
       "  </thead>\n",
       "  <tbody>\n",
       "    <tr>\n",
       "      <td>0</td>\n",
       "      <td>1</td>\n",
       "      <td>2012</td>\n",
       "      <td>1</td>\n",
       "      <td>Suicide</td>\n",
       "      <td>0</td>\n",
       "      <td>M</td>\n",
       "      <td>34.0</td>\n",
       "      <td>Asian/Pacific Islander</td>\n",
       "      <td>100</td>\n",
       "      <td>Home</td>\n",
       "      <td>4.0</td>\n",
       "    </tr>\n",
       "    <tr>\n",
       "      <td>1</td>\n",
       "      <td>2</td>\n",
       "      <td>2012</td>\n",
       "      <td>1</td>\n",
       "      <td>Suicide</td>\n",
       "      <td>0</td>\n",
       "      <td>F</td>\n",
       "      <td>21.0</td>\n",
       "      <td>White</td>\n",
       "      <td>100</td>\n",
       "      <td>Street</td>\n",
       "      <td>3.0</td>\n",
       "    </tr>\n",
       "    <tr>\n",
       "      <td>2</td>\n",
       "      <td>3</td>\n",
       "      <td>2012</td>\n",
       "      <td>1</td>\n",
       "      <td>Suicide</td>\n",
       "      <td>0</td>\n",
       "      <td>M</td>\n",
       "      <td>60.0</td>\n",
       "      <td>White</td>\n",
       "      <td>100</td>\n",
       "      <td>Other specified</td>\n",
       "      <td>4.0</td>\n",
       "    </tr>\n",
       "    <tr>\n",
       "      <td>3</td>\n",
       "      <td>4</td>\n",
       "      <td>2012</td>\n",
       "      <td>2</td>\n",
       "      <td>Suicide</td>\n",
       "      <td>0</td>\n",
       "      <td>M</td>\n",
       "      <td>64.0</td>\n",
       "      <td>White</td>\n",
       "      <td>100</td>\n",
       "      <td>Home</td>\n",
       "      <td>4.0</td>\n",
       "    </tr>\n",
       "    <tr>\n",
       "      <td>4</td>\n",
       "      <td>5</td>\n",
       "      <td>2012</td>\n",
       "      <td>2</td>\n",
       "      <td>Suicide</td>\n",
       "      <td>0</td>\n",
       "      <td>M</td>\n",
       "      <td>31.0</td>\n",
       "      <td>White</td>\n",
       "      <td>100</td>\n",
       "      <td>Other specified</td>\n",
       "      <td>2.0</td>\n",
       "    </tr>\n",
       "  </tbody>\n",
       "</table>\n",
       "</div>"
      ],
      "text/plain": [
       "       Identifier  year  month   intent  police sex   age  \\\n",
       "Index                                                       \n",
       "0               1  2012      1  Suicide       0   M  34.0   \n",
       "1               2  2012      1  Suicide       0   F  21.0   \n",
       "2               3  2012      1  Suicide       0   M  60.0   \n",
       "3               4  2012      2  Suicide       0   M  64.0   \n",
       "4               5  2012      2  Suicide       0   M  31.0   \n",
       "\n",
       "                         race  hispanic            place  education  \n",
       "Index                                                                \n",
       "0      Asian/Pacific Islander       100             Home        4.0  \n",
       "1                       White       100           Street        3.0  \n",
       "2                       White       100  Other specified        4.0  \n",
       "3                       White       100             Home        4.0  \n",
       "4                       White       100  Other specified        2.0  "
      ]
     },
     "execution_count": 3,
     "metadata": {},
     "output_type": "execute_result"
    }
   ],
   "source": [
    "# 1. Replace Headers\n",
    "\n",
    "# added header to row index column\n",
    "guns.index.name = 'Index'\n",
    "\n",
    "# renamed Unnamed column to Identifier\n",
    "guns = guns.rename(columns = {'Unnamed: 0':'Identifier'})\n",
    "\n",
    "# print first 5 rows of DataFrame\n",
    "guns.head()"
   ]
  },
  {
   "cell_type": "code",
   "execution_count": 4,
   "metadata": {},
   "outputs": [
    {
     "data": {
      "text/plain": [
       "Index(['Identifier', 'Year', 'Month', 'Intent', 'Police', 'Sex', 'Age', 'Race',\n",
       "       'Hispanic', 'Place', 'Education'],\n",
       "      dtype='object')"
      ]
     },
     "execution_count": 4,
     "metadata": {},
     "output_type": "execute_result"
    }
   ],
   "source": [
    "# for readability and concistency - capitalizing column names\n",
    "guns.columns = map(str.capitalize, guns.columns)\n",
    "\n",
    "# list column headers\n",
    "guns.columns"
   ]
  },
  {
   "cell_type": "code",
   "execution_count": 5,
   "metadata": {},
   "outputs": [
    {
     "data": {
      "text/plain": [
       "Identifier      int64\n",
       "Year            int64\n",
       "Month           int64\n",
       "Intent         object\n",
       "Police          int64\n",
       "Sex            object\n",
       "Age           float64\n",
       "Race           object\n",
       "Hispanic        int64\n",
       "Place          object\n",
       "Education     float64\n",
       "dtype: object"
      ]
     },
     "execution_count": 5,
     "metadata": {},
     "output_type": "execute_result"
    }
   ],
   "source": [
    "# 2. Identify outliers and bad data - focus is on bad data\n",
    "\n",
    "# using dtypes, determine data types of each column \n",
    "# looking for column types that could point to rows without data, etc.\n",
    "guns.dtypes"
   ]
  },
  {
   "cell_type": "markdown",
   "metadata": {},
   "source": [
    "The float values in the education column could indicate there are NaN values, since every category is a whole number [1,2,3,4,5]. "
   ]
  },
  {
   "cell_type": "code",
   "execution_count": 6,
   "metadata": {},
   "outputs": [
    {
     "data": {
      "text/plain": [
       "Identifier    100798\n",
       "Year          100798\n",
       "Month         100798\n",
       "Intent        100797\n",
       "Police        100798\n",
       "Sex           100798\n",
       "Age           100780\n",
       "Race          100798\n",
       "Hispanic      100798\n",
       "Place          99414\n",
       "Education     100745\n",
       "dtype: int64"
      ]
     },
     "execution_count": 6,
     "metadata": {},
     "output_type": "execute_result"
    }
   ],
   "source": [
    "# determine where NaN values exist\n",
    "\n",
    "# notnull().sum() method counts the rows within the dataset that do not contain any null values\n",
    "guns.notnull().sum()"
   ]
  },
  {
   "cell_type": "markdown",
   "metadata": {},
   "source": [
    "Results indiate there are null values in the Intent, Age, Place, and Education columns."
   ]
  },
  {
   "cell_type": "code",
   "execution_count": 7,
   "metadata": {},
   "outputs": [
    {
     "data": {
      "text/plain": [
       "Identifier    100.000000\n",
       "Year          100.000000\n",
       "Month         100.000000\n",
       "Intent         99.999008\n",
       "Police        100.000000\n",
       "Sex           100.000000\n",
       "Age            99.982143\n",
       "Race          100.000000\n",
       "Hispanic      100.000000\n",
       "Place          98.626957\n",
       "Education      99.947420\n",
       "dtype: float64"
      ]
     },
     "execution_count": 7,
     "metadata": {},
     "output_type": "execute_result"
    }
   ],
   "source": [
    "# checking percentage of valid data, by column\n",
    "guns.notnull().sum() * 100.0/guns.shape[0]"
   ]
  },
  {
   "cell_type": "markdown",
   "metadata": {},
   "source": [
    "Most of the columns have at least 98.6% of the values - which means the data is close to complete.  Deleting all rows with NaN values should not impact any insights and conclusions."
   ]
  },
  {
   "cell_type": "code",
   "execution_count": 8,
   "metadata": {},
   "outputs": [
    {
     "name": "stdout",
     "output_type": "stream",
     "text": [
      "(99343, 11)\n"
     ]
    },
    {
     "data": {
      "text/plain": [
       "Identifier    100.0\n",
       "Year          100.0\n",
       "Month         100.0\n",
       "Intent        100.0\n",
       "Police        100.0\n",
       "Sex           100.0\n",
       "Age           100.0\n",
       "Race          100.0\n",
       "Hispanic      100.0\n",
       "Place         100.0\n",
       "Education     100.0\n",
       "dtype: float64"
      ]
     },
     "execution_count": 8,
     "metadata": {},
     "output_type": "execute_result"
    }
   ],
   "source": [
    "# drop rows with NaN values \n",
    "guns = guns.dropna(subset = ['Intent', 'Age', 'Place', 'Education'])\n",
    "\n",
    "# preserve number of rows of updated DataFrame\n",
    "updatedRowCount = guns.shape[0]\n",
    "\n",
    "# print number of rows and columns after dropping NaN values\n",
    "print(guns.shape)\n",
    "\n",
    "# checking percentage of valid data again\n",
    "guns.notnull().sum() * 100.0/guns.shape[0]"
   ]
  },
  {
   "cell_type": "code",
   "execution_count": 9,
   "metadata": {},
   "outputs": [
    {
     "name": "stdout",
     "output_type": "stream",
     "text": [
      "Number of deleted rows: 1455.\n"
     ]
    }
   ],
   "source": [
    "# Determine number of deleted rows, compute difference between original and updated DataFrame\n",
    "print('Number of deleted rows: {}.'.format(originalRowCount - updatedRowCount))"
   ]
  },
  {
   "cell_type": "code",
   "execution_count": 10,
   "metadata": {},
   "outputs": [
    {
     "name": "stdout",
     "output_type": "stream",
     "text": [
      "Duplicate Rows except based on all columns are :\n",
      "Empty DataFrame\n",
      "Columns: [Identifier, Year, Month, Intent, Police, Sex, Age, Race, Hispanic, Place, Education]\n",
      "Index: []\n"
     ]
    }
   ],
   "source": [
    "# 3. find duplicates\n",
    "\n",
    "# Select duplicate rows except first occurrence based on all columns\n",
    "duplicateRowsDF = guns[guns.duplicated()]\n",
    "\n",
    "# print results\n",
    "print(\"Duplicate Rows except based on all columns are :\")\n",
    "print(duplicateRowsDF)"
   ]
  },
  {
   "cell_type": "markdown",
   "metadata": {},
   "source": [
    "The Empty DataFrame indicates there are no duplicates in this DataFrame."
   ]
  },
  {
   "cell_type": "code",
   "execution_count": 11,
   "metadata": {},
   "outputs": [
    {
     "data": {
      "text/plain": [
       "Identifier      int64\n",
       "Year            int64\n",
       "Month           int64\n",
       "Intent         object\n",
       "Police         object\n",
       "Sex            object\n",
       "Age           float64\n",
       "Race           object\n",
       "Hispanic        int64\n",
       "Place          object\n",
       "Education      object\n",
       "dtype: object"
      ]
     },
     "execution_count": 11,
     "metadata": {},
     "output_type": "execute_result"
    }
   ],
   "source": [
    "# 4. Format data into a more readable format\n",
    "# modify Education column to reflect description instead of a number\n",
    "# modify Police column to reflect 'True' or 'False' instead of 0 or 1\n",
    "\n",
    "# modify the Education and Police column to a string type (reflects as object)\n",
    "guns['Education'] = guns['Education'].astype(str)\n",
    "guns['Police'] = guns['Police'].astype(str)\n",
    "guns.dtypes"
   ]
  },
  {
   "cell_type": "code",
   "execution_count": 12,
   "metadata": {},
   "outputs": [
    {
     "data": {
      "text/html": [
       "<div>\n",
       "<style scoped>\n",
       "    .dataframe tbody tr th:only-of-type {\n",
       "        vertical-align: middle;\n",
       "    }\n",
       "\n",
       "    .dataframe tbody tr th {\n",
       "        vertical-align: top;\n",
       "    }\n",
       "\n",
       "    .dataframe thead th {\n",
       "        text-align: right;\n",
       "    }\n",
       "</style>\n",
       "<table border=\"1\" class=\"dataframe\">\n",
       "  <thead>\n",
       "    <tr style=\"text-align: right;\">\n",
       "      <th></th>\n",
       "      <th>Identifier</th>\n",
       "      <th>Year</th>\n",
       "      <th>Month</th>\n",
       "      <th>Intent</th>\n",
       "      <th>Police</th>\n",
       "      <th>Sex</th>\n",
       "      <th>Age</th>\n",
       "      <th>Race</th>\n",
       "      <th>Hispanic</th>\n",
       "      <th>Place</th>\n",
       "      <th>Education</th>\n",
       "    </tr>\n",
       "    <tr>\n",
       "      <th>Index</th>\n",
       "      <th></th>\n",
       "      <th></th>\n",
       "      <th></th>\n",
       "      <th></th>\n",
       "      <th></th>\n",
       "      <th></th>\n",
       "      <th></th>\n",
       "      <th></th>\n",
       "      <th></th>\n",
       "      <th></th>\n",
       "      <th></th>\n",
       "    </tr>\n",
       "  </thead>\n",
       "  <tbody>\n",
       "    <tr>\n",
       "      <td>0</td>\n",
       "      <td>1</td>\n",
       "      <td>2012</td>\n",
       "      <td>1</td>\n",
       "      <td>Suicide</td>\n",
       "      <td>False</td>\n",
       "      <td>M</td>\n",
       "      <td>34.0</td>\n",
       "      <td>Asian/Pacific Islander</td>\n",
       "      <td>100</td>\n",
       "      <td>Home</td>\n",
       "      <td>At least graduated from college</td>\n",
       "    </tr>\n",
       "    <tr>\n",
       "      <td>1</td>\n",
       "      <td>2</td>\n",
       "      <td>2012</td>\n",
       "      <td>1</td>\n",
       "      <td>Suicide</td>\n",
       "      <td>False</td>\n",
       "      <td>F</td>\n",
       "      <td>21.0</td>\n",
       "      <td>White</td>\n",
       "      <td>100</td>\n",
       "      <td>Street</td>\n",
       "      <td>Some college</td>\n",
       "    </tr>\n",
       "    <tr>\n",
       "      <td>2</td>\n",
       "      <td>3</td>\n",
       "      <td>2012</td>\n",
       "      <td>1</td>\n",
       "      <td>Suicide</td>\n",
       "      <td>False</td>\n",
       "      <td>M</td>\n",
       "      <td>60.0</td>\n",
       "      <td>White</td>\n",
       "      <td>100</td>\n",
       "      <td>Other specified</td>\n",
       "      <td>At least graduated from college</td>\n",
       "    </tr>\n",
       "    <tr>\n",
       "      <td>3</td>\n",
       "      <td>4</td>\n",
       "      <td>2012</td>\n",
       "      <td>2</td>\n",
       "      <td>Suicide</td>\n",
       "      <td>False</td>\n",
       "      <td>M</td>\n",
       "      <td>64.0</td>\n",
       "      <td>White</td>\n",
       "      <td>100</td>\n",
       "      <td>Home</td>\n",
       "      <td>At least graduated from college</td>\n",
       "    </tr>\n",
       "    <tr>\n",
       "      <td>4</td>\n",
       "      <td>5</td>\n",
       "      <td>2012</td>\n",
       "      <td>2</td>\n",
       "      <td>Suicide</td>\n",
       "      <td>False</td>\n",
       "      <td>M</td>\n",
       "      <td>31.0</td>\n",
       "      <td>White</td>\n",
       "      <td>100</td>\n",
       "      <td>Other specified</td>\n",
       "      <td>Graduated from High School or equivalent</td>\n",
       "    </tr>\n",
       "  </tbody>\n",
       "</table>\n",
       "</div>"
      ],
      "text/plain": [
       "       Identifier  Year  Month   Intent Police Sex   Age  \\\n",
       "Index                                                      \n",
       "0               1  2012      1  Suicide  False   M  34.0   \n",
       "1               2  2012      1  Suicide  False   F  21.0   \n",
       "2               3  2012      1  Suicide  False   M  60.0   \n",
       "3               4  2012      2  Suicide  False   M  64.0   \n",
       "4               5  2012      2  Suicide  False   M  31.0   \n",
       "\n",
       "                         Race  Hispanic            Place  \\\n",
       "Index                                                      \n",
       "0      Asian/Pacific Islander       100             Home   \n",
       "1                       White       100           Street   \n",
       "2                       White       100  Other specified   \n",
       "3                       White       100             Home   \n",
       "4                       White       100  Other specified   \n",
       "\n",
       "                                      Education  \n",
       "Index                                            \n",
       "0               At least graduated from college  \n",
       "1                                  Some college  \n",
       "2               At least graduated from college  \n",
       "3               At least graduated from college  \n",
       "4      Graduated from High School or equivalent  "
      ]
     },
     "execution_count": 12,
     "metadata": {},
     "output_type": "execute_result"
    }
   ],
   "source": [
    "# update Education and Police columns based on entry\n",
    "\n",
    "# set Education column value based on current value\n",
    "guns['Education']=np.where((guns.Education == '1.0'), 'Less than High School', guns.Education)\n",
    "guns['Education']=np.where((guns.Education == '2.0'), 'Graduated from High School or equivalent', guns.Education)\n",
    "guns['Education']=np.where((guns.Education == '3.0'), 'Some college', guns.Education)\n",
    "guns['Education']=np.where((guns.Education == '4.0'), 'At least graduated from college', guns.Education)\n",
    "guns['Education']=np.where((guns.Education == '5.0'), 'Not available', guns.Education)\n",
    "\n",
    "# set Police column based on current value\n",
    "guns['Police']=np.where((guns.Police == '0'), 'False', guns.Police)\n",
    "guns['Police']=np.where((guns.Police == '1'), 'True', guns.Police)\n",
    "\n",
    "# print first 5 rows of DataFrame\n",
    "guns.head()"
   ]
  },
  {
   "cell_type": "code",
   "execution_count": 13,
   "metadata": {},
   "outputs": [
    {
     "data": {
      "text/plain": [
       "array(['Suicide', 'Undetermined', 'Accidental', 'Homicide'], dtype=object)"
      ]
     },
     "execution_count": 13,
     "metadata": {},
     "output_type": "execute_result"
    }
   ],
   "source": [
    "# 5. Fix casing or inconsistent values\n",
    "# Check non-numeric columns for consistent values - Intent, Sex, Race, Place, Education, Police\n",
    "# Checking Education and Police in case there were unexpected values prior to update\n",
    "\n",
    "# list unique values in the Intent column\n",
    "guns.Intent.unique()"
   ]
  },
  {
   "cell_type": "code",
   "execution_count": 14,
   "metadata": {},
   "outputs": [
    {
     "data": {
      "text/plain": [
       "array(['Suicide', 'Undetermined', 'Accidental', 'Homicide'], dtype=object)"
      ]
     },
     "execution_count": 14,
     "metadata": {},
     "output_type": "execute_result"
    }
   ],
   "source": [
    "#List unique values in the Intent column\n",
    "guns.Intent.unique()"
   ]
  },
  {
   "cell_type": "code",
   "execution_count": 15,
   "metadata": {},
   "outputs": [
    {
     "data": {
      "text/plain": [
       "array(['M', 'F'], dtype=object)"
      ]
     },
     "execution_count": 15,
     "metadata": {},
     "output_type": "execute_result"
    }
   ],
   "source": [
    "# List unique values in the Sex column\n",
    "guns.Sex.unique()"
   ]
  },
  {
   "cell_type": "code",
   "execution_count": 16,
   "metadata": {},
   "outputs": [
    {
     "data": {
      "text/plain": [
       "array(['Asian/Pacific Islander', 'White',\n",
       "       'Native American/Native Alaskan', 'Black', 'Hispanic'],\n",
       "      dtype=object)"
      ]
     },
     "execution_count": 16,
     "metadata": {},
     "output_type": "execute_result"
    }
   ],
   "source": [
    "# List unique values in the Race column\n",
    "guns.Race.unique()"
   ]
  },
  {
   "cell_type": "code",
   "execution_count": 17,
   "metadata": {},
   "outputs": [
    {
     "data": {
      "text/plain": [
       "array(['Home', 'Street', 'Other specified', 'Other unspecified',\n",
       "       'Trade/service area', 'Farm', 'Industrial/construction',\n",
       "       'School/instiution', 'Sports', 'Residential institution'],\n",
       "      dtype=object)"
      ]
     },
     "execution_count": 17,
     "metadata": {},
     "output_type": "execute_result"
    }
   ],
   "source": [
    "# List unique values in the Place column\n",
    "guns.Place.unique()"
   ]
  },
  {
   "cell_type": "code",
   "execution_count": 18,
   "metadata": {},
   "outputs": [
    {
     "data": {
      "text/plain": [
       "array(['At least graduated from college', 'Some college',\n",
       "       'Graduated from High School or equivalent',\n",
       "       'Less than High School', 'Not available'], dtype=object)"
      ]
     },
     "execution_count": 18,
     "metadata": {},
     "output_type": "execute_result"
    }
   ],
   "source": [
    "# List unique values in the Education column\n",
    "guns.Education"
   ]
  },
  {
   "cell_type": "code",
   "execution_count": 19,
   "metadata": {},
   "outputs": [
    {
     "data": {
      "text/plain": [
       "array(['False', 'True'], dtype=object)"
      ]
     },
     "execution_count": 19,
     "metadata": {},
     "output_type": "execute_result"
    }
   ],
   "source": [
    "# List unique values in the Police column\n",
    "guns.Police.unique()"
   ]
  },
  {
   "cell_type": "markdown",
   "metadata": {},
   "source": [
    "Based on results, all values in the Intent, Sex, Race, Place, Education, and Police columns are consistent"
   ]
  },
  {
   "cell_type": "markdown",
   "metadata": {},
   "source": [
    "Reference\n",
    "\n",
    ">> Kaggle. (n.d.). Gun Violence. Retrieved from Kaggle: https://www.kaggle.com/hakabuk/gun-deaths-in-the-us"
   ]
  }
 ],
 "metadata": {
  "kernelspec": {
   "display_name": "Python 3",
   "language": "python",
   "name": "python3"
  },
  "language_info": {
   "codemirror_mode": {
    "name": "ipython",
    "version": 3
   },
   "file_extension": ".py",
   "mimetype": "text/x-python",
   "name": "python",
   "nbconvert_exporter": "python",
   "pygments_lexer": "ipython3",
   "version": "3.7.4"
  }
 },
 "nbformat": 4,
 "nbformat_minor": 2
}
