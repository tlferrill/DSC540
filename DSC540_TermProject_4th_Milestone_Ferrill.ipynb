{
 "cells": [
  {
   "cell_type": "code",
   "execution_count": 1,
   "metadata": {},
   "outputs": [],
   "source": [
    "#   Name: Teresa Ferrill\n",
    "#   Date: 05/17/2020\n",
    "# Course: DSC540-T302 Data Preparation\n",
    "# Term Project: Milestone Four - Gun Violence"
   ]
  },
  {
   "cell_type": "markdown",
   "metadata": {},
   "source": [
    "Connecting to an API/Pulling in the Data and Cleaning/Formatting\n",
    "\n",
    "Perform at least 5 data transformation and/or cleansing steps to your API data. For example:\n",
    "  \n",
    "Note - these transformations/cleasing steps occur throughout the notebook\n",
    "\n",
    "\n",
    "> 1. Format data into a more readable format        \n",
    ">> --Took Date column and broke it into thee columns (Month, Day, Year) so that it can be used with other data sources sorted by Year     \n",
    "> 2. Replace Headers  \n",
    ">> --Added Index column header     \n",
    ">> --Updated column headers for data columns    \n",
    "> 3. Find duplicates    \n",
    ">> --Ran query to find duplicates (no duplicates found)\n",
    "> 4. Identify outliers and bad data     \n",
    ">> --Checked for NULL or NaN values within the data, deleted 2 rows with NaN values               \n",
    ">> --Ran Histogram on Injured and Killed columns in order to determine if there were any negative values\n",
    "> 5. Fix casing or inconsistent values     \n",
    ">> --Deleted unnecessary column from table     \n",
    ">> --Verified State, City, Month, Day, Year columns for inconsistent values    \n",
    ">> --Updated State column to upper case state abbreviation"
   ]
  },
  {
   "cell_type": "markdown",
   "metadata": {},
   "source": [
    "__Set up for Notebook activities, including import statements and establishment of custom functions__"
   ]
  },
  {
   "cell_type": "code",
   "execution_count": 2,
   "metadata": {},
   "outputs": [],
   "source": [
    "# import libraries to support notebook processing\n",
    "\n",
    "# support for BeautifulSoup\n",
    "from bs4 import BeautifulSoup\n",
    "# support for URL request and open\n",
    "from urllib.request import Request, urlopen\n",
    "# support for pandas DataFrame\n",
    "import pandas as pd\n",
    "# support for histogram plots\n",
    "import matplotlib.pyplot as plt\n",
    "# support for JSON processing\n",
    "import json \n",
    "# support for operation systems functions\n",
    "import os "
   ]
  },
  {
   "cell_type": "code",
   "execution_count": 3,
   "metadata": {},
   "outputs": [
    {
     "name": "stdout",
     "output_type": "stream",
     "text": [
      "Requirement already satisfied: kaggle in c:\\personal\\bu\\anaconda\\lib\\site-packages (1.5.6)\n",
      "Requirement already satisfied: requests in c:\\personal\\bu\\anaconda\\lib\\site-packages (from kaggle) (2.22.0)\n",
      "Requirement already satisfied: certifi in c:\\personal\\bu\\anaconda\\lib\\site-packages (from kaggle) (2019.9.11)\n",
      "Requirement already satisfied: tqdm in c:\\personal\\bu\\anaconda\\lib\\site-packages (from kaggle) (4.36.1)\n",
      "Requirement already satisfied: python-slugify in c:\\personal\\bu\\anaconda\\lib\\site-packages (from kaggle) (4.0.0)\n",
      "Requirement already satisfied: python-dateutil in c:\\personal\\bu\\anaconda\\lib\\site-packages (from kaggle) (2.8.0)\n",
      "Requirement already satisfied: urllib3<1.25,>=1.21.1 in c:\\personal\\bu\\anaconda\\lib\\site-packages (from kaggle) (1.24.2)\n",
      "Requirement already satisfied: six>=1.10 in c:\\personal\\bu\\anaconda\\lib\\site-packages (from kaggle) (1.12.0)\n",
      "Requirement already satisfied: idna<2.9,>=2.5 in c:\\personal\\bu\\anaconda\\lib\\site-packages (from requests->kaggle) (2.8)\n",
      "Requirement already satisfied: chardet<3.1.0,>=3.0.2 in c:\\personal\\bu\\anaconda\\lib\\site-packages (from requests->kaggle) (3.0.4)\n",
      "Requirement already satisfied: text-unidecode>=1.3 in c:\\personal\\bu\\anaconda\\lib\\site-packages (from python-slugify->kaggle) (1.3)\n"
     ]
    }
   ],
   "source": [
    "# using Kaggle API source\n",
    "# install Kaggle for API support - if Kaggle has already been installed, \n",
    "# libraries will state 'Requirement already satisfied'\n",
    "\n",
    "# install Kaggle libraries\n",
    "!pip install kaggle"
   ]
  },
  {
   "cell_type": "code",
   "execution_count": 4,
   "metadata": {},
   "outputs": [],
   "source": [
    "# function to update State column to capitalized State abbreviation \n",
    "def updateState(df):\n",
    "    df['State'] = df.State.replace('Indiana', 'IN')\n",
    "    df['State'] = df.State.replace('Wisconsin', 'WI')\n",
    "    df['State'] = df.State.replace('New York', 'NY')\n",
    "    df['State'] = df.State.replace('Virginia', 'VA')    \n",
    "    df['State'] = df.State.replace('North Carolina', 'NC')\n",
    "    df['State'] = df.State.replace('Florida', 'FL')\n",
    "    df['State'] = df.State.replace('Tennessee', 'TN')\n",
    "    df['State'] = df.State.replace('Maryland', 'MD')\n",
    "    df['State'] = df.State.replace('Massachusetts', 'MA')\n",
    "    df['State'] = df.State.replace('Mississippi', 'MS')\n",
    "    df['State'] = df.State.replace('California', 'CA')\n",
    "    df['State'] = df.State.replace('Mississippi', 'MS')\n",
    "    df['State'] = df.State.replace('Texas', 'TX')    \n",
    "    df['State'] = df.State.replace('Michigan', 'MI')\n",
    "    df['State'] = df.State.replace('South Carolina', 'SC')\n",
    "    df['State'] = df.State.replace('South Dakota', 'SD')\n",
    "    df['State'] = df.State.replace('Illinois', 'IL')\n",
    "    df['State'] = df.State.replace('Louisiana', 'LA')\n",
    "    df['State'] = df.State.replace('Kentucky', 'KY')\n",
    "    df['State'] = df.State.replace('Georgia', 'GA')\n",
    "    df['State'] = df.State.replace('Pennsylvania', 'PA')    \n",
    "    df['State'] = df.State.replace('Missouri', 'MO')\n",
    "    df['State'] = df.State.replace('New Mexico', 'NM')\n",
    "    df['State'] = df.State.replace('Ohio', 'OH')\n",
    "    df['State'] = df.State.replace('District of Columbia', 'DC')\n",
    "    df['State'] = df.State.replace('Washington', 'WA')\n",
    "    df['State'] = df.State.replace('Vermont', 'VT')\n",
    "    df['State'] = df.State.replace('West Virginia', 'WV')\n",
    "    df['State'] = df.State.replace('Iowa', 'IA')\n",
    "    df['State'] = df.State.replace('Minnesota', 'MN')\n",
    "    df['State'] = df.State.replace('Alabama', 'AL')\n",
    "    df['State'] = df.State.replace('New Jersey', 'NJ')\n",
    "    df['State'] = df.State.replace('Arkansas', 'AR')\n",
    "    df['State'] = df.State.replace('Arizona', 'AZ')\n",
    "    df['State'] = df.State.replace('Oklahoma', 'OK')\n",
    "    df['State'] = df.State.replace('Kansas', 'KS')\n",
    "    df['State'] = df.State.replace('Nevada', 'NV')\n",
    "    df['State'] = df.State.replace('Oregon', 'OR')\n",
    "    df['State'] = df.State.replace('Nebraska', 'NE')\n",
    "    df['State'] = df.State.replace('Colorado', 'CO')\n",
    "    df['State'] = df.State.replace('Connecticut', 'CT')\n",
    "    df['State'] = df.State.replace('Delaware', 'DE')"
   ]
  },
  {
   "cell_type": "code",
   "execution_count": 5,
   "metadata": {},
   "outputs": [
    {
     "data": {
      "text/plain": [
       "'C:\\\\Users\\\\14023\\\\DSC540\\\\TermProject'"
      ]
     },
     "execution_count": 5,
     "metadata": {},
     "output_type": "execute_result"
    }
   ],
   "source": [
    "# get the current working directory\n",
    "os.getcwd()"
   ]
  },
  {
   "cell_type": "code",
   "execution_count": 6,
   "metadata": {},
   "outputs": [
    {
     "data": {
      "text/plain": [
       "'C:\\\\Users\\\\14023\\\\DSC540\\\\TermProject'"
      ]
     },
     "execution_count": 6,
     "metadata": {},
     "output_type": "execute_result"
    }
   ],
   "source": [
    "# change directory to .kaggle\n",
    "os.chdir(\".kaggle\")\n",
    "# prepare data for input to kaggle.json file, username and API key information\n",
    "data = {\"username\":\"teresaferrill\",\"key\":\"49b613bbb9cda757a0bf942e8243bb76\"}\n",
    "# open kaggle.json file, write data with username and API key information to the file\n",
    "with open('kaggle.json', 'w') as outfile:\n",
    "    json.dump(data, outfile)\n",
    "# change directory back to original folder    \n",
    "os.chdir(\"..\\\\\")\n",
    "# verify current working directory, should match above\n",
    "os.getcwd()"
   ]
  },
  {
   "cell_type": "code",
   "execution_count": 7,
   "metadata": {},
   "outputs": [
    {
     "name": "stdout",
     "output_type": "stream",
     "text": [
      "Downloading gun-violence-database.zip to C:\\Users\\14023\\DSC540\\TermProject\n",
      "\n"
     ]
    },
    {
     "name": "stderr",
     "output_type": "stream",
     "text": [
      "\n",
      "  0%|          | 0.00/119k [00:00<?, ?B/s]\n",
      "100%|##########| 119k/119k [00:00<00:00, 332kB/s]\n",
      "100%|##########| 119k/119k [00:00<00:00, 330kB/s]\n"
     ]
    }
   ],
   "source": [
    "# import the Kaggle API library to support authentication\n",
    "from kaggle.api.kaggle_api_extended import KaggleApi\n",
    "# establish Kaggle API\n",
    "api = KaggleApi(data)\n",
    "# authenticate to Kaggle site\n",
    "api.authenticate()\n",
    "# download the gun violence database from Kaggle\n",
    "!kaggle datasets download -d gunviolencearchive/gun-violence-database"
   ]
  },
  {
   "cell_type": "code",
   "execution_count": 8,
   "metadata": {},
   "outputs": [],
   "source": [
    "# import library to support zip packages\n",
    "from shutil import unpack_archive\n",
    "# unpack the gun violence database download\n",
    "unpack_archive('gun-violence-database.zip')"
   ]
  },
  {
   "cell_type": "code",
   "execution_count": 9,
   "metadata": {},
   "outputs": [
    {
     "data": {
      "text/html": [
       "<div>\n",
       "<style scoped>\n",
       "    .dataframe tbody tr th:only-of-type {\n",
       "        vertical-align: middle;\n",
       "    }\n",
       "\n",
       "    .dataframe tbody tr th {\n",
       "        vertical-align: top;\n",
       "    }\n",
       "\n",
       "    .dataframe thead th {\n",
       "        text-align: right;\n",
       "    }\n",
       "</style>\n",
       "<table border=\"1\" class=\"dataframe\">\n",
       "  <thead>\n",
       "    <tr style=\"text-align: right;\">\n",
       "      <th></th>\n",
       "      <th>Incident Date</th>\n",
       "      <th>State</th>\n",
       "      <th>City Or County</th>\n",
       "      <th>Address</th>\n",
       "      <th># Killed</th>\n",
       "      <th># Injured</th>\n",
       "      <th>Operations</th>\n",
       "    </tr>\n",
       "  </thead>\n",
       "  <tbody>\n",
       "    <tr>\n",
       "      <td>0</td>\n",
       "      <td>November 26, 2016</td>\n",
       "      <td>Illinois</td>\n",
       "      <td>Chicago</td>\n",
       "      <td>8800 block of South Exchange Avenue</td>\n",
       "      <td>1</td>\n",
       "      <td>5</td>\n",
       "      <td>NaN</td>\n",
       "    </tr>\n",
       "    <tr>\n",
       "      <td>1</td>\n",
       "      <td>November 25, 2016</td>\n",
       "      <td>Louisiana</td>\n",
       "      <td>New Orleans</td>\n",
       "      <td>Magnolia and Felicity Street</td>\n",
       "      <td>0</td>\n",
       "      <td>4</td>\n",
       "      <td>NaN</td>\n",
       "    </tr>\n",
       "    <tr>\n",
       "      <td>2</td>\n",
       "      <td>November 24, 2016</td>\n",
       "      <td>Kentucky</td>\n",
       "      <td>Louisville</td>\n",
       "      <td>4501 W Broadway</td>\n",
       "      <td>2</td>\n",
       "      <td>5</td>\n",
       "      <td>NaN</td>\n",
       "    </tr>\n",
       "    <tr>\n",
       "      <td>3</td>\n",
       "      <td>November 24, 2016</td>\n",
       "      <td>New York</td>\n",
       "      <td>Albany</td>\n",
       "      <td>77 Central Avenue</td>\n",
       "      <td>1</td>\n",
       "      <td>3</td>\n",
       "      <td>NaN</td>\n",
       "    </tr>\n",
       "    <tr>\n",
       "      <td>4</td>\n",
       "      <td>November 23, 2016</td>\n",
       "      <td>Mississippi</td>\n",
       "      <td>Olive Branch</td>\n",
       "      <td>928 Cross Road</td>\n",
       "      <td>0</td>\n",
       "      <td>4</td>\n",
       "      <td>NaN</td>\n",
       "    </tr>\n",
       "  </tbody>\n",
       "</table>\n",
       "</div>"
      ],
      "text/plain": [
       "       Incident Date        State City Or County  \\\n",
       "0  November 26, 2016     Illinois        Chicago   \n",
       "1  November 25, 2016    Louisiana    New Orleans   \n",
       "2  November 24, 2016     Kentucky     Louisville   \n",
       "3  November 24, 2016     New York         Albany   \n",
       "4  November 23, 2016  Mississippi   Olive Branch   \n",
       "\n",
       "                               Address  # Killed  # Injured  Operations  \n",
       "0  8800 block of South Exchange Avenue         1          5         NaN  \n",
       "1         Magnolia and Felicity Street         0          4         NaN  \n",
       "2                      4501 W Broadway         2          5         NaN  \n",
       "3                    77 Central Avenue         1          3         NaN  \n",
       "4                       928 Cross Road         0          4         NaN  "
      ]
     },
     "execution_count": 9,
     "metadata": {},
     "output_type": "execute_result"
    }
   ],
   "source": [
    "# read the mass shootings file\n",
    "data = pd.read_csv('mass_shootings_all.csv')\n",
    "# view head of dataframe\n",
    "data.head()"
   ]
  },
  {
   "cell_type": "code",
   "execution_count": 10,
   "metadata": {},
   "outputs": [
    {
     "data": {
      "text/plain": [
       "Incident Date      object\n",
       "State              object\n",
       "City Or County     object\n",
       "Address            object\n",
       "# Killed            int64\n",
       "# Injured           int64\n",
       "Operations        float64\n",
       "dtype: object"
      ]
     },
     "execution_count": 10,
     "metadata": {},
     "output_type": "execute_result"
    }
   ],
   "source": [
    "# view the data types of the DataFrame\n",
    "data.dtypes"
   ]
  },
  {
   "cell_type": "markdown",
   "metadata": {},
   "source": [
    "__Delete unnecessary Operations column__"
   ]
  },
  {
   "cell_type": "code",
   "execution_count": 11,
   "metadata": {},
   "outputs": [
    {
     "data": {
      "text/plain": [
       "array([nan])"
      ]
     },
     "execution_count": 11,
     "metadata": {},
     "output_type": "execute_result"
    }
   ],
   "source": [
    "# find the unique valures of the Operations column\n",
    "data.Operations.unique()"
   ]
  },
  {
   "cell_type": "code",
   "execution_count": 13,
   "metadata": {},
   "outputs": [],
   "source": [
    "# remove Operations column - no rows contain any data, column is unnecessary\n",
    "del data['Operations']"
   ]
  },
  {
   "cell_type": "code",
   "execution_count": 15,
   "metadata": {},
   "outputs": [
    {
     "data": {
      "text/plain": [
       "(500, 6)"
      ]
     },
     "execution_count": 15,
     "metadata": {},
     "output_type": "execute_result"
    }
   ],
   "source": [
    "# view number of rows and columns of DataFrame\n",
    "data.shape"
   ]
  },
  {
   "cell_type": "markdown",
   "metadata": {},
   "source": [
    "__Added Index column header and Updated Column Headers__"
   ]
  },
  {
   "cell_type": "code",
   "execution_count": 16,
   "metadata": {},
   "outputs": [],
   "source": [
    "# added header to row index column\n",
    "data.index.name = 'Index'\n",
    "# update column headers of DataFrame\n",
    "data = data.rename(columns = {'Incident Date':'Date', 'City Or County':'City', '# Killed':'Killed', '# Injured':'Injured'})"
   ]
  },
  {
   "cell_type": "code",
   "execution_count": 17,
   "metadata": {},
   "outputs": [
    {
     "data": {
      "text/html": [
       "<div>\n",
       "<style scoped>\n",
       "    .dataframe tbody tr th:only-of-type {\n",
       "        vertical-align: middle;\n",
       "    }\n",
       "\n",
       "    .dataframe tbody tr th {\n",
       "        vertical-align: top;\n",
       "    }\n",
       "\n",
       "    .dataframe thead th {\n",
       "        text-align: right;\n",
       "    }\n",
       "</style>\n",
       "<table border=\"1\" class=\"dataframe\">\n",
       "  <thead>\n",
       "    <tr style=\"text-align: right;\">\n",
       "      <th></th>\n",
       "      <th>Date</th>\n",
       "      <th>State</th>\n",
       "      <th>City</th>\n",
       "      <th>Address</th>\n",
       "      <th>Killed</th>\n",
       "      <th>Injured</th>\n",
       "    </tr>\n",
       "    <tr>\n",
       "      <th>Index</th>\n",
       "      <th></th>\n",
       "      <th></th>\n",
       "      <th></th>\n",
       "      <th></th>\n",
       "      <th></th>\n",
       "      <th></th>\n",
       "    </tr>\n",
       "  </thead>\n",
       "  <tbody>\n",
       "    <tr>\n",
       "      <td>0</td>\n",
       "      <td>November 26, 2016</td>\n",
       "      <td>Illinois</td>\n",
       "      <td>Chicago</td>\n",
       "      <td>8800 block of South Exchange Avenue</td>\n",
       "      <td>1</td>\n",
       "      <td>5</td>\n",
       "    </tr>\n",
       "    <tr>\n",
       "      <td>1</td>\n",
       "      <td>November 25, 2016</td>\n",
       "      <td>Louisiana</td>\n",
       "      <td>New Orleans</td>\n",
       "      <td>Magnolia and Felicity Street</td>\n",
       "      <td>0</td>\n",
       "      <td>4</td>\n",
       "    </tr>\n",
       "    <tr>\n",
       "      <td>2</td>\n",
       "      <td>November 24, 2016</td>\n",
       "      <td>Kentucky</td>\n",
       "      <td>Louisville</td>\n",
       "      <td>4501 W Broadway</td>\n",
       "      <td>2</td>\n",
       "      <td>5</td>\n",
       "    </tr>\n",
       "    <tr>\n",
       "      <td>3</td>\n",
       "      <td>November 24, 2016</td>\n",
       "      <td>New York</td>\n",
       "      <td>Albany</td>\n",
       "      <td>77 Central Avenue</td>\n",
       "      <td>1</td>\n",
       "      <td>3</td>\n",
       "    </tr>\n",
       "    <tr>\n",
       "      <td>4</td>\n",
       "      <td>November 23, 2016</td>\n",
       "      <td>Mississippi</td>\n",
       "      <td>Olive Branch</td>\n",
       "      <td>928 Cross Road</td>\n",
       "      <td>0</td>\n",
       "      <td>4</td>\n",
       "    </tr>\n",
       "  </tbody>\n",
       "</table>\n",
       "</div>"
      ],
      "text/plain": [
       "                    Date        State          City  \\\n",
       "Index                                                 \n",
       "0      November 26, 2016     Illinois       Chicago   \n",
       "1      November 25, 2016    Louisiana   New Orleans   \n",
       "2      November 24, 2016     Kentucky    Louisville   \n",
       "3      November 24, 2016     New York        Albany   \n",
       "4      November 23, 2016  Mississippi  Olive Branch   \n",
       "\n",
       "                                   Address  Killed  Injured  \n",
       "Index                                                        \n",
       "0      8800 block of South Exchange Avenue       1        5  \n",
       "1             Magnolia and Felicity Street       0        4  \n",
       "2                          4501 W Broadway       2        5  \n",
       "3                        77 Central Avenue       1        3  \n",
       "4                           928 Cross Road       0        4  "
      ]
     },
     "execution_count": 17,
     "metadata": {},
     "output_type": "execute_result"
    }
   ],
   "source": [
    "# review DataFrame rows\n",
    "data.head()"
   ]
  },
  {
   "cell_type": "markdown",
   "metadata": {},
   "source": [
    "__Verify State column values, updated values to upper case state abbreviations__"
   ]
  },
  {
   "cell_type": "code",
   "execution_count": 18,
   "metadata": {},
   "outputs": [
    {
     "data": {
      "text/plain": [
       "array(['Illinois', 'Louisiana', 'Kentucky', 'New York', 'Mississippi',\n",
       "       'Florida', 'Tennessee', 'California', 'Texas', 'Connecticut',\n",
       "       'Missouri', 'Washington', 'South Carolina', 'Pennsylvania',\n",
       "       'Arkansas', 'Ohio', 'Maryland', 'Georgia', 'Virginia', 'Oklahoma',\n",
       "       'Alabama', 'Michigan', 'Minnesota', 'North Carolina', 'Indiana',\n",
       "       'District of Columbia', 'New Jersey', 'Massachusetts', 'Wisconsin',\n",
       "       'New Mexico', 'Colorado', 'Arizona', 'Nevada', 'Oregon', 'Kansas',\n",
       "       'Delaware', 'West Virginia', 'Nebraska', 'Iowa', 'South Dakota',\n",
       "       'Vermont'], dtype=object)"
      ]
     },
     "execution_count": 18,
     "metadata": {},
     "output_type": "execute_result"
    }
   ],
   "source": [
    "# identify unique state names\n",
    "data.State.unique()"
   ]
  },
  {
   "cell_type": "code",
   "execution_count": 19,
   "metadata": {},
   "outputs": [],
   "source": [
    "# update state values to upper case two digit abbreviations \n",
    "updateState(data)"
   ]
  },
  {
   "cell_type": "code",
   "execution_count": 20,
   "metadata": {},
   "outputs": [
    {
     "data": {
      "text/plain": [
       "array(['IL', 'LA', 'KY', 'NY', 'MS', 'FL', 'TN', 'CA', 'TX', 'CT', 'MO',\n",
       "       'WA', 'SC', 'PA', 'AR', 'OH', 'MD', 'GA', 'VA', 'OK', 'AL', 'MI',\n",
       "       'MN', 'NC', 'IN', 'DC', 'NJ', 'MA', 'WI', 'NM', 'CO', 'AZ', 'NV',\n",
       "       'OR', 'KS', 'DE', 'WV', 'NE', 'IA', 'SD', 'VT'], dtype=object)"
      ]
     },
     "execution_count": 20,
     "metadata": {},
     "output_type": "execute_result"
    }
   ],
   "source": [
    "# verify update to State column\n",
    "data.State.unique()"
   ]
  },
  {
   "cell_type": "code",
   "execution_count": 21,
   "metadata": {},
   "outputs": [
    {
     "data": {
      "text/html": [
       "<div>\n",
       "<style scoped>\n",
       "    .dataframe tbody tr th:only-of-type {\n",
       "        vertical-align: middle;\n",
       "    }\n",
       "\n",
       "    .dataframe tbody tr th {\n",
       "        vertical-align: top;\n",
       "    }\n",
       "\n",
       "    .dataframe thead th {\n",
       "        text-align: right;\n",
       "    }\n",
       "</style>\n",
       "<table border=\"1\" class=\"dataframe\">\n",
       "  <thead>\n",
       "    <tr style=\"text-align: right;\">\n",
       "      <th></th>\n",
       "      <th>Date</th>\n",
       "      <th>State</th>\n",
       "      <th>City</th>\n",
       "      <th>Address</th>\n",
       "      <th>Killed</th>\n",
       "      <th>Injured</th>\n",
       "    </tr>\n",
       "    <tr>\n",
       "      <th>Index</th>\n",
       "      <th></th>\n",
       "      <th></th>\n",
       "      <th></th>\n",
       "      <th></th>\n",
       "      <th></th>\n",
       "      <th></th>\n",
       "    </tr>\n",
       "  </thead>\n",
       "  <tbody>\n",
       "    <tr>\n",
       "      <td>0</td>\n",
       "      <td>November 26, 2016</td>\n",
       "      <td>IL</td>\n",
       "      <td>Chicago</td>\n",
       "      <td>8800 block of South Exchange Avenue</td>\n",
       "      <td>1</td>\n",
       "      <td>5</td>\n",
       "    </tr>\n",
       "    <tr>\n",
       "      <td>1</td>\n",
       "      <td>November 25, 2016</td>\n",
       "      <td>LA</td>\n",
       "      <td>New Orleans</td>\n",
       "      <td>Magnolia and Felicity Street</td>\n",
       "      <td>0</td>\n",
       "      <td>4</td>\n",
       "    </tr>\n",
       "    <tr>\n",
       "      <td>2</td>\n",
       "      <td>November 24, 2016</td>\n",
       "      <td>KY</td>\n",
       "      <td>Louisville</td>\n",
       "      <td>4501 W Broadway</td>\n",
       "      <td>2</td>\n",
       "      <td>5</td>\n",
       "    </tr>\n",
       "    <tr>\n",
       "      <td>3</td>\n",
       "      <td>November 24, 2016</td>\n",
       "      <td>NY</td>\n",
       "      <td>Albany</td>\n",
       "      <td>77 Central Avenue</td>\n",
       "      <td>1</td>\n",
       "      <td>3</td>\n",
       "    </tr>\n",
       "    <tr>\n",
       "      <td>4</td>\n",
       "      <td>November 23, 2016</td>\n",
       "      <td>MS</td>\n",
       "      <td>Olive Branch</td>\n",
       "      <td>928 Cross Road</td>\n",
       "      <td>0</td>\n",
       "      <td>4</td>\n",
       "    </tr>\n",
       "  </tbody>\n",
       "</table>\n",
       "</div>"
      ],
      "text/plain": [
       "                    Date State          City  \\\n",
       "Index                                          \n",
       "0      November 26, 2016    IL       Chicago   \n",
       "1      November 25, 2016    LA   New Orleans   \n",
       "2      November 24, 2016    KY    Louisville   \n",
       "3      November 24, 2016    NY        Albany   \n",
       "4      November 23, 2016    MS  Olive Branch   \n",
       "\n",
       "                                   Address  Killed  Injured  \n",
       "Index                                                        \n",
       "0      8800 block of South Exchange Avenue       1        5  \n",
       "1             Magnolia and Felicity Street       0        4  \n",
       "2                          4501 W Broadway       2        5  \n",
       "3                        77 Central Avenue       1        3  \n",
       "4                           928 Cross Road       0        4  "
      ]
     },
     "execution_count": 21,
     "metadata": {},
     "output_type": "execute_result"
    }
   ],
   "source": [
    "# review first 10 rows of DataFrame\n",
    "data.head()"
   ]
  },
  {
   "cell_type": "markdown",
   "metadata": {},
   "source": [
    "__Add Month, Day, and Year columns as copy of Data column, separate the values to Month, Day, and Year__"
   ]
  },
  {
   "cell_type": "code",
   "execution_count": 22,
   "metadata": {},
   "outputs": [
    {
     "data": {
      "text/plain": [
       "Date       object\n",
       "State      object\n",
       "City       object\n",
       "Address    object\n",
       "Killed      int64\n",
       "Injured     int64\n",
       "dtype: object"
      ]
     },
     "execution_count": 22,
     "metadata": {},
     "output_type": "execute_result"
    }
   ],
   "source": [
    "# review data types of DataFrame\n",
    "data.dtypes"
   ]
  },
  {
   "cell_type": "code",
   "execution_count": 23,
   "metadata": {},
   "outputs": [
    {
     "data": {
      "text/plain": [
       "Date       object\n",
       "State      object\n",
       "City       object\n",
       "Address    object\n",
       "Killed     object\n",
       "Injured    object\n",
       "Month      object\n",
       "Day        object\n",
       "Year       object\n",
       "dtype: object"
      ]
     },
     "execution_count": 23,
     "metadata": {},
     "output_type": "execute_result"
    }
   ],
   "source": [
    "# update Killed and Injured columns to string data type\n",
    "data.Killed = data.Killed.astype(str)\n",
    "data.Injured = data.Injured.astype(str)\n",
    "# add columns for month, day, and year\n",
    "data['Month'] = data['Date']\n",
    "data['Day'] = data['Date']\n",
    "data['Year'] = data['Date']\n",
    "# view data types of Data Frame\n",
    "data.dtypes"
   ]
  },
  {
   "cell_type": "code",
   "execution_count": 24,
   "metadata": {},
   "outputs": [
    {
     "data": {
      "text/html": [
       "<div>\n",
       "<style scoped>\n",
       "    .dataframe tbody tr th:only-of-type {\n",
       "        vertical-align: middle;\n",
       "    }\n",
       "\n",
       "    .dataframe tbody tr th {\n",
       "        vertical-align: top;\n",
       "    }\n",
       "\n",
       "    .dataframe thead th {\n",
       "        text-align: right;\n",
       "    }\n",
       "</style>\n",
       "<table border=\"1\" class=\"dataframe\">\n",
       "  <thead>\n",
       "    <tr style=\"text-align: right;\">\n",
       "      <th></th>\n",
       "      <th>Date</th>\n",
       "      <th>State</th>\n",
       "      <th>City</th>\n",
       "      <th>Address</th>\n",
       "      <th>Killed</th>\n",
       "      <th>Injured</th>\n",
       "      <th>Month</th>\n",
       "      <th>Day</th>\n",
       "      <th>Year</th>\n",
       "    </tr>\n",
       "    <tr>\n",
       "      <th>Index</th>\n",
       "      <th></th>\n",
       "      <th></th>\n",
       "      <th></th>\n",
       "      <th></th>\n",
       "      <th></th>\n",
       "      <th></th>\n",
       "      <th></th>\n",
       "      <th></th>\n",
       "      <th></th>\n",
       "    </tr>\n",
       "  </thead>\n",
       "  <tbody>\n",
       "    <tr>\n",
       "      <td>0</td>\n",
       "      <td>November 26, 2016</td>\n",
       "      <td>IL</td>\n",
       "      <td>Chicago</td>\n",
       "      <td>8800 block of South Exchange Avenue</td>\n",
       "      <td>1</td>\n",
       "      <td>5</td>\n",
       "      <td>November</td>\n",
       "      <td>26</td>\n",
       "      <td>2016</td>\n",
       "    </tr>\n",
       "    <tr>\n",
       "      <td>1</td>\n",
       "      <td>November 25, 2016</td>\n",
       "      <td>LA</td>\n",
       "      <td>New Orleans</td>\n",
       "      <td>Magnolia and Felicity Street</td>\n",
       "      <td>0</td>\n",
       "      <td>4</td>\n",
       "      <td>November</td>\n",
       "      <td>25</td>\n",
       "      <td>2016</td>\n",
       "    </tr>\n",
       "    <tr>\n",
       "      <td>2</td>\n",
       "      <td>November 24, 2016</td>\n",
       "      <td>KY</td>\n",
       "      <td>Louisville</td>\n",
       "      <td>4501 W Broadway</td>\n",
       "      <td>2</td>\n",
       "      <td>5</td>\n",
       "      <td>November</td>\n",
       "      <td>24</td>\n",
       "      <td>2016</td>\n",
       "    </tr>\n",
       "    <tr>\n",
       "      <td>3</td>\n",
       "      <td>November 24, 2016</td>\n",
       "      <td>NY</td>\n",
       "      <td>Albany</td>\n",
       "      <td>77 Central Avenue</td>\n",
       "      <td>1</td>\n",
       "      <td>3</td>\n",
       "      <td>November</td>\n",
       "      <td>24</td>\n",
       "      <td>2016</td>\n",
       "    </tr>\n",
       "    <tr>\n",
       "      <td>4</td>\n",
       "      <td>November 23, 2016</td>\n",
       "      <td>MS</td>\n",
       "      <td>Olive Branch</td>\n",
       "      <td>928 Cross Road</td>\n",
       "      <td>0</td>\n",
       "      <td>4</td>\n",
       "      <td>November</td>\n",
       "      <td>23</td>\n",
       "      <td>2016</td>\n",
       "    </tr>\n",
       "    <tr>\n",
       "      <td>...</td>\n",
       "      <td>...</td>\n",
       "      <td>...</td>\n",
       "      <td>...</td>\n",
       "      <td>...</td>\n",
       "      <td>...</td>\n",
       "      <td>...</td>\n",
       "      <td>...</td>\n",
       "      <td>...</td>\n",
       "      <td>...</td>\n",
       "    </tr>\n",
       "    <tr>\n",
       "      <td>495</td>\n",
       "      <td>July 25, 2015</td>\n",
       "      <td>VA</td>\n",
       "      <td>Hopewell</td>\n",
       "      <td>500 block of N. 7th Ave</td>\n",
       "      <td>0</td>\n",
       "      <td>4</td>\n",
       "      <td>July</td>\n",
       "      <td>25</td>\n",
       "      <td>2015</td>\n",
       "    </tr>\n",
       "    <tr>\n",
       "      <td>496</td>\n",
       "      <td>July 24, 2015</td>\n",
       "      <td>PA</td>\n",
       "      <td>Erie</td>\n",
       "      <td>200 block of West 29th Street</td>\n",
       "      <td>2</td>\n",
       "      <td>4</td>\n",
       "      <td>July</td>\n",
       "      <td>24</td>\n",
       "      <td>2015</td>\n",
       "    </tr>\n",
       "    <tr>\n",
       "      <td>497</td>\n",
       "      <td>July 23, 2015</td>\n",
       "      <td>LA</td>\n",
       "      <td>Lafayette</td>\n",
       "      <td>3141 Johnson Street</td>\n",
       "      <td>3</td>\n",
       "      <td>9</td>\n",
       "      <td>July</td>\n",
       "      <td>23</td>\n",
       "      <td>2015</td>\n",
       "    </tr>\n",
       "    <tr>\n",
       "      <td>498</td>\n",
       "      <td>July 22, 2015</td>\n",
       "      <td>GA</td>\n",
       "      <td>Suwanee</td>\n",
       "      <td>5500 block of Old Atlanta Road</td>\n",
       "      <td>5</td>\n",
       "      <td>0</td>\n",
       "      <td>July</td>\n",
       "      <td>22</td>\n",
       "      <td>2015</td>\n",
       "    </tr>\n",
       "    <tr>\n",
       "      <td>499</td>\n",
       "      <td>July 21, 2015</td>\n",
       "      <td>FL</td>\n",
       "      <td>Miami Gardens</td>\n",
       "      <td>Northwest 25th Avenue and Miami Gardens Drive</td>\n",
       "      <td>1</td>\n",
       "      <td>3</td>\n",
       "      <td>July</td>\n",
       "      <td>21</td>\n",
       "      <td>2015</td>\n",
       "    </tr>\n",
       "  </tbody>\n",
       "</table>\n",
       "<p>500 rows × 9 columns</p>\n",
       "</div>"
      ],
      "text/plain": [
       "                    Date State           City  \\\n",
       "Index                                           \n",
       "0      November 26, 2016    IL        Chicago   \n",
       "1      November 25, 2016    LA    New Orleans   \n",
       "2      November 24, 2016    KY     Louisville   \n",
       "3      November 24, 2016    NY         Albany   \n",
       "4      November 23, 2016    MS   Olive Branch   \n",
       "...                  ...   ...            ...   \n",
       "495        July 25, 2015    VA       Hopewell   \n",
       "496        July 24, 2015    PA           Erie   \n",
       "497        July 23, 2015    LA      Lafayette   \n",
       "498        July 22, 2015    GA        Suwanee   \n",
       "499        July 21, 2015    FL  Miami Gardens   \n",
       "\n",
       "                                             Address Killed Injured     Month  \\\n",
       "Index                                                                           \n",
       "0                8800 block of South Exchange Avenue      1       5  November   \n",
       "1                       Magnolia and Felicity Street      0       4  November   \n",
       "2                                    4501 W Broadway      2       5  November   \n",
       "3                                  77 Central Avenue      1       3  November   \n",
       "4                                     928 Cross Road      0       4  November   \n",
       "...                                              ...    ...     ...       ...   \n",
       "495                          500 block of N. 7th Ave      0       4      July   \n",
       "496                    200 block of West 29th Street      2       4      July   \n",
       "497                              3141 Johnson Street      3       9      July   \n",
       "498                   5500 block of Old Atlanta Road      5       0      July   \n",
       "499    Northwest 25th Avenue and Miami Gardens Drive      1       3      July   \n",
       "\n",
       "      Day  Year  \n",
       "Index            \n",
       "0      26  2016  \n",
       "1      25  2016  \n",
       "2      24  2016  \n",
       "3      24  2016  \n",
       "4      23  2016  \n",
       "...    ..   ...  \n",
       "495    25  2015  \n",
       "496    24  2015  \n",
       "497    23  2015  \n",
       "498    22  2015  \n",
       "499    21  2015  \n",
       "\n",
       "[500 rows x 9 columns]"
      ]
     },
     "execution_count": 24,
     "metadata": {},
     "output_type": "execute_result"
    }
   ],
   "source": [
    "# loop through DataFrame and update new columns with corresponding date portion\n",
    "# split the initial value on space and store the date portion appropriately\n",
    "for index, row in data.iterrows():\n",
    "    # split Date value on spaces, add to date list\n",
    "    splitDate = row['Date'].split()\n",
    "    \n",
    "    # update Month column with 1st value in the string (Month)\n",
    "    row['Month'] = splitDate[0]\n",
    "   \n",
    "    # update Day column with 2nd value in the string (Day) and remove the comma\n",
    "    row['Day'] = splitDate[1][:-1]\n",
    "    \n",
    "    # update Year column with 3rd value in the string (Year)\n",
    "    row['Year'] = splitDate[2]\n",
    "    \n",
    "# verify resulting DataFrame\n",
    "data"
   ]
  },
  {
   "cell_type": "code",
   "execution_count": 26,
   "metadata": {},
   "outputs": [
    {
     "data": {
      "text/html": [
       "<div>\n",
       "<style scoped>\n",
       "    .dataframe tbody tr th:only-of-type {\n",
       "        vertical-align: middle;\n",
       "    }\n",
       "\n",
       "    .dataframe tbody tr th {\n",
       "        vertical-align: top;\n",
       "    }\n",
       "\n",
       "    .dataframe thead th {\n",
       "        text-align: right;\n",
       "    }\n",
       "</style>\n",
       "<table border=\"1\" class=\"dataframe\">\n",
       "  <thead>\n",
       "    <tr style=\"text-align: right;\">\n",
       "      <th></th>\n",
       "      <th>Date</th>\n",
       "      <th>State</th>\n",
       "      <th>City</th>\n",
       "      <th>Address</th>\n",
       "      <th>Killed</th>\n",
       "      <th>Injured</th>\n",
       "      <th>Month</th>\n",
       "      <th>Day</th>\n",
       "      <th>Year</th>\n",
       "    </tr>\n",
       "    <tr>\n",
       "      <th>Index</th>\n",
       "      <th></th>\n",
       "      <th></th>\n",
       "      <th></th>\n",
       "      <th></th>\n",
       "      <th></th>\n",
       "      <th></th>\n",
       "      <th></th>\n",
       "      <th></th>\n",
       "      <th></th>\n",
       "    </tr>\n",
       "  </thead>\n",
       "  <tbody>\n",
       "    <tr>\n",
       "      <td>0</td>\n",
       "      <td>November 26, 2016</td>\n",
       "      <td>IL</td>\n",
       "      <td>Chicago</td>\n",
       "      <td>8800 block of South Exchange Avenue</td>\n",
       "      <td>1</td>\n",
       "      <td>5</td>\n",
       "      <td>November</td>\n",
       "      <td>26</td>\n",
       "      <td>2016</td>\n",
       "    </tr>\n",
       "    <tr>\n",
       "      <td>1</td>\n",
       "      <td>November 25, 2016</td>\n",
       "      <td>LA</td>\n",
       "      <td>New Orleans</td>\n",
       "      <td>Magnolia and Felicity Street</td>\n",
       "      <td>0</td>\n",
       "      <td>4</td>\n",
       "      <td>November</td>\n",
       "      <td>25</td>\n",
       "      <td>2016</td>\n",
       "    </tr>\n",
       "    <tr>\n",
       "      <td>2</td>\n",
       "      <td>November 24, 2016</td>\n",
       "      <td>KY</td>\n",
       "      <td>Louisville</td>\n",
       "      <td>4501 W Broadway</td>\n",
       "      <td>2</td>\n",
       "      <td>5</td>\n",
       "      <td>November</td>\n",
       "      <td>24</td>\n",
       "      <td>2016</td>\n",
       "    </tr>\n",
       "    <tr>\n",
       "      <td>3</td>\n",
       "      <td>November 24, 2016</td>\n",
       "      <td>NY</td>\n",
       "      <td>Albany</td>\n",
       "      <td>77 Central Avenue</td>\n",
       "      <td>1</td>\n",
       "      <td>3</td>\n",
       "      <td>November</td>\n",
       "      <td>24</td>\n",
       "      <td>2016</td>\n",
       "    </tr>\n",
       "    <tr>\n",
       "      <td>4</td>\n",
       "      <td>November 23, 2016</td>\n",
       "      <td>MS</td>\n",
       "      <td>Olive Branch</td>\n",
       "      <td>928 Cross Road</td>\n",
       "      <td>0</td>\n",
       "      <td>4</td>\n",
       "      <td>November</td>\n",
       "      <td>23</td>\n",
       "      <td>2016</td>\n",
       "    </tr>\n",
       "  </tbody>\n",
       "</table>\n",
       "</div>"
      ],
      "text/plain": [
       "                    Date State          City  \\\n",
       "Index                                          \n",
       "0      November 26, 2016    IL       Chicago   \n",
       "1      November 25, 2016    LA   New Orleans   \n",
       "2      November 24, 2016    KY    Louisville   \n",
       "3      November 24, 2016    NY        Albany   \n",
       "4      November 23, 2016    MS  Olive Branch   \n",
       "\n",
       "                                   Address  Killed  Injured     Month Day  \\\n",
       "Index                                                                       \n",
       "0      8800 block of South Exchange Avenue       1        5  November  26   \n",
       "1             Magnolia and Felicity Street       0        4  November  25   \n",
       "2                          4501 W Broadway       2        5  November  24   \n",
       "3                        77 Central Avenue       1        3  November  24   \n",
       "4                           928 Cross Road       0        4  November  23   \n",
       "\n",
       "       Year  \n",
       "Index        \n",
       "0      2016  \n",
       "1      2016  \n",
       "2      2016  \n",
       "3      2016  \n",
       "4      2016  "
      ]
     },
     "execution_count": 26,
     "metadata": {},
     "output_type": "execute_result"
    }
   ],
   "source": [
    "# reset Killed and Injured columns to Integer data type\n",
    "data.Killed = data.Killed.astype(int)\n",
    "data.Injured = data.Injured.astype(int)\n",
    "# view first part of DataFrame\n",
    "data.head()"
   ]
  },
  {
   "cell_type": "code",
   "execution_count": 27,
   "metadata": {},
   "outputs": [
    {
     "data": {
      "text/plain": [
       "Date       object\n",
       "State      object\n",
       "City       object\n",
       "Address    object\n",
       "Killed      int32\n",
       "Injured     int32\n",
       "Month      object\n",
       "Day        object\n",
       "Year       object\n",
       "dtype: object"
      ]
     },
     "execution_count": 27,
     "metadata": {},
     "output_type": "execute_result"
    }
   ],
   "source": [
    "# verify data types of DataFrame\n",
    "data.dtypes"
   ]
  },
  {
   "cell_type": "markdown",
   "metadata": {},
   "source": [
    "__Remove any duplicate rows from DataFrame__"
   ]
  },
  {
   "cell_type": "code",
   "execution_count": 28,
   "metadata": {},
   "outputs": [
    {
     "name": "stdout",
     "output_type": "stream",
     "text": [
      "Duplicate Rows except based on all columns are :\n",
      "Empty DataFrame\n",
      "Columns: [Date, State, City, Address, Killed, Injured, Month, Day, Year]\n",
      "Index: []\n"
     ]
    }
   ],
   "source": [
    "# Select duplicate rows except first occurrence based on all columns\n",
    "duplicateRowsDF = data[data.duplicated()]\n",
    "\n",
    "# print results\n",
    "print(\"Duplicate Rows except based on all columns are :\")\n",
    "print(duplicateRowsDF)"
   ]
  },
  {
   "cell_type": "markdown",
   "metadata": {},
   "source": [
    "> The resulting empty DataFrame indicates there are no duplicates in the table DataFrame."
   ]
  },
  {
   "cell_type": "markdown",
   "metadata": {},
   "source": [
    "__Determine if there are any NaN values within the DataFrame, delete if found__"
   ]
  },
  {
   "cell_type": "code",
   "execution_count": 29,
   "metadata": {},
   "outputs": [
    {
     "data": {
      "text/plain": [
       "Date       500\n",
       "State      500\n",
       "City       500\n",
       "Address    498\n",
       "Killed     500\n",
       "Injured    500\n",
       "Month      500\n",
       "Day        500\n",
       "Year       500\n",
       "dtype: int64"
      ]
     },
     "execution_count": 29,
     "metadata": {},
     "output_type": "execute_result"
    }
   ],
   "source": [
    "# determine where NaN values exist\n",
    "\n",
    "# notnull().sum() method counts the rows within the dataset that do not contain any null values\n",
    "data.notnull().sum()"
   ]
  },
  {
   "cell_type": "code",
   "execution_count": 31,
   "metadata": {},
   "outputs": [],
   "source": [
    "# only two rows contain null addresses, can delete without impact to analysis\n",
    "# delete the rows with null or NaN value for Address\n",
    "data = data[data['Address'].notna()]"
   ]
  },
  {
   "cell_type": "code",
   "execution_count": 32,
   "metadata": {},
   "outputs": [
    {
     "data": {
      "text/plain": [
       "Date       498\n",
       "State      498\n",
       "City       498\n",
       "Address    498\n",
       "Killed     498\n",
       "Injured    498\n",
       "Month      498\n",
       "Day        498\n",
       "Year       498\n",
       "dtype: int64"
      ]
     },
     "execution_count": 32,
     "metadata": {},
     "output_type": "execute_result"
    }
   ],
   "source": [
    "# verify delete of null Address rows\n",
    "data.notnull().sum()"
   ]
  },
  {
   "cell_type": "markdown",
   "metadata": {},
   "source": [
    "__Generate Histogram to verify if any outliers exist__"
   ]
  },
  {
   "cell_type": "code",
   "execution_count": 33,
   "metadata": {},
   "outputs": [
    {
     "data": {
      "image/png": "[encoded data removed]",
      "text/plain": [
       "<Figure size 432x288 with 1 Axes>"
      ]
     },
     "metadata": {
      "needs_background": "light"
     },
     "output_type": "display_data"
    }
   ],
   "source": [
    "# generate histogram - to determine if there are any negative numbers included in the rows\n",
    "# use matplotlib to generate plots\n",
    "import matplotlib.pyplot as plt\n",
    "plt.title(\"Frequency of Number Killed\", fontsize=15)\n",
    "# identify column to plot\n",
    "plt.hist(data['Killed'], bins=50)\n",
    "# show grid\n",
    "plt.grid(True)\n",
    "# print\n",
    "# add x label title\n",
    "plt.xlabel('Killed Count')\n",
    "# add y label title\n",
    "plt.ylabel('Frequency')\n",
    "plt.show()"
   ]
  },
  {
   "cell_type": "code",
   "execution_count": 34,
   "metadata": {},
   "outputs": [
    {
     "data": {
      "image/png": "[encoded data removed]",
      "text/plain": [
       "<Figure size 432x288 with 1 Axes>"
      ]
     },
     "metadata": {
      "needs_background": "light"
     },
     "output_type": "display_data"
    }
   ],
   "source": [
    "# generate histogram of number injured - to determine if there are any negative numbers included in the rows\n",
    "# use matplotlib to generate plots\n",
    "import matplotlib.pyplot as plt\n",
    "plt.title(\"Frequency of Number Injured\", fontsize=15)\n",
    "# identify column to plot\n",
    "plt.hist(data['Injured'], bins=50)\n",
    "# show grid\n",
    "plt.grid(True)\n",
    "# print\n",
    "# add x label title\n",
    "plt.xlabel('Injured Count')\n",
    "# add y label title\n",
    "plt.ylabel('Frequency')\n",
    "plt.show()"
   ]
  },
  {
   "cell_type": "markdown",
   "metadata": {},
   "source": [
    "> Histograms show no negative values for injured or killed     \n",
    "> Being mass violence, it is conceivable that the higher numbers within the histograms are valid     \n",
    "> There are no outliers within the Killed and Injured values within the DataFrame    "
   ]
  },
  {
   "cell_type": "markdown",
   "metadata": {},
   "source": [
    "> References:   \n",
    "\n",
    ">> Kaggle. (2020). _Gun Violence Database_ Retrieved from Kaggle: https://www.kaggle.com/gunviolencearchive/undefined"
   ]
  }
 ],
 "metadata": {
  "kernelspec": {
   "display_name": "Python 3",
   "language": "python",
   "name": "python3"
  },
  "language_info": {
   "codemirror_mode": {
    "name": "ipython",
    "version": 3
   },
   "file_extension": ".py",
   "mimetype": "text/x-python",
   "name": "python",
   "nbconvert_exporter": "python",
   "pygments_lexer": "ipython3",
   "version": "3.7.4"
  }
 },
 "nbformat": 4,
 "nbformat_minor": 2
}
